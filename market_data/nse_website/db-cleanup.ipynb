{
 "cells": [
  {
   "cell_type": "code",
   "execution_count": 1,
   "metadata": {
    "collapsed": true
   },
   "outputs": [],
   "source": [
    "import threading\n",
    "from time import sleep\n",
    "import sqlalchemy\n",
    "import pandas as pd\n",
    "from sqlalchemy import inspect\n",
    "from datetime import datetime, timedelta\n",
    "from tqdm import tqdm\n",
    "\n",
    "read_engine = sqlalchemy.create_engine('sqlite:////mnt/hgfs/win-d/work/data/20210220-nse.db', echo=False)"
   ]
  },
  {
   "cell_type": "code",
   "execution_count": 2,
   "outputs": [
    {
     "name": "stderr",
     "output_type": "stream",
     "text": [
      "Inner Loop: 100%|██████████| 11647/11647 [1:57:40<00:00,  1.65it/s, table=OPTIDXBANKNIFTY29-10-2020PE27800]  \n",
      "Inner Loop: 100%|██████████| 11647/11647 [1:30:19<00:00,  2.15it/s, table=OPTIDXNIFTY29-10-2020PE9950]   \n"
     ]
    }
   ],
   "source": [
    "tables = read_engine.table_names()\n",
    "calculate_upto_date = datetime.strptime('18-11-2020', '%d-%m-%Y')\n",
    "\n",
    "def apply_change_in_oi(df, resampled_df):\n",
    "    temp = resampled_df[resampled_df['dateTime'] < df.dateTime]\n",
    "    if temp.empty:\n",
    "        return 0\n",
    "    else:\n",
    "        changeInOi = int(df.openInterest - temp['openInterest'].iloc[-1])\n",
    "        return  changeInOi\n",
    "\n",
    "def calculate_change_in_oi(symbol, tables):\n",
    "    # for idx, table_name in enumerate(tables):\n",
    "    t = tqdm(enumerate(tables), total=len(tables), desc='Inner Loop')\n",
    "    for idx, table_name in t:\n",
    "        try:\n",
    "            if 'OPTIDX'+symbol not in table_name: continue\n",
    "            date_idx = len('OPTIDX'+symbol)\n",
    "            exp_date_str = table_name[date_idx:date_idx+10]\n",
    "            exp_date = datetime.strptime(exp_date_str, '%d-%m-%Y')\n",
    "\n",
    "            if exp_date > calculate_upto_date: continue\n",
    "\n",
    "            t.set_postfix({'table' : table_name})\n",
    "            # sleep(0.001)\n",
    "            # print(\"Processing: {}/{} - {}\".format(idx, len(tables), table_name))\n",
    "\n",
    "            df = pd.read_sql(\"SELECT * FROM '{}'\".format(table_name), con=read_engine)\n",
    "            df['dateTime'] = pd.to_datetime(df['dateTime'], errors='coerce')\n",
    "            df.drop_duplicates(keep='first', inplace=True, subset=['dateTime'])\n",
    "\n",
    "            resampled_df = df.resample('D',on='dateTime').last()\n",
    "            resampled_df = resampled_df[~resampled_df.dateTime.isnull()]\n",
    "            # resampled_df = resampled_df.dropna(subset='dateTime')\n",
    "            df['changeinOpenInterest'] = df.apply(apply_change_in_oi, resampled_df=resampled_df, axis=1)\n",
    "            df.to_sql(table_name, con=read_engine, if_exists='replace', index=False)\n",
    "        except Exception as e:\n",
    "            print(e)\n",
    "            pass\n",
    "\n",
    "calculate_change_in_oi('BANKNIFTY', tables)\n",
    "calculate_change_in_oi('NIFTY', tables)\n",
    "# t1 = threading.Thread(target=calculate_change_in_oi, args=('BANKNIFTY', tables))\n",
    "# t1.start()\n",
    "# # t2 = threading.Thread(target=calculate_change_in_oi, args=('NIFTY', tables))\n",
    "# # t2.start()\n",
    "#\n",
    "# t1.join()\n",
    "# t2.join()\n",
    "# calculate_change_in_oi('BANKNIFTY', tables)\n",
    "# calculate_change_in_oi('NIFTY', tables)"
   ],
   "metadata": {
    "collapsed": false,
    "pycharm": {
     "name": "#%%\n"
    }
   }
  },
  {
   "cell_type": "code",
   "execution_count": 2,
   "outputs": [],
   "source": [],
   "metadata": {
    "collapsed": false,
    "pycharm": {
     "name": "#%%px --targets 0 --noblock\n"
    }
   }
  }
 ],
 "metadata": {
  "kernelspec": {
   "name": "algo",
   "language": "python",
   "display_name": "algo"
  },
  "language_info": {
   "codemirror_mode": {
    "name": "ipython",
    "version": 2
   },
   "file_extension": ".py",
   "mimetype": "text/x-python",
   "name": "python",
   "nbconvert_exporter": "python",
   "pygments_lexer": "ipython2",
   "version": "2.7.6"
  }
 },
 "nbformat": 4,
 "nbformat_minor": 0
}